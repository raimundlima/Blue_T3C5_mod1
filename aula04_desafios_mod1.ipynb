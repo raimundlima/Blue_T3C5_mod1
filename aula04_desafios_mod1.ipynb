{
  "nbformat": 4,
  "nbformat_minor": 0,
  "metadata": {
    "colab": {
      "name": "aula04 desafios mod1.ipynb",
      "provenance": [],
      "authorship_tag": "ABX9TyNJSknSqTfuETWYILXYA36S"
    },
    "kernelspec": {
      "name": "python3",
      "display_name": "Python 3"
    },
    "language_info": {
      "name": "python"
    }
  },
  "cells": [
    {
      "cell_type": "markdown",
      "metadata": {
        "id": "D4ZEJQ5wZc5E"
      },
      "source": [
        "Crie um programa em Python que peça a nota do aluno, que deve ser um float entre 0.00 e 10.0\n",
        "\n",
        "Se a nota for menor que 6.0, deve exibir a nota F.\n",
        "\n",
        "Se a nota for de 6.0 até 7.0, deve exibir a nota D.\n",
        "\n",
        "Se a nota for entre 7.0 e 8.0, deve exibir a nota C.\n",
        "\n",
        "Se a nota for entre 8.0 e 9.0, deve exibir a nota B.\n",
        "\n",
        "Por fim, se for entre 9.0 e 10.0, deve exibir um belo de um A.\n",
        "\n"
      ]
    },
    {
      "cell_type": "code",
      "metadata": {
        "colab": {
          "base_uri": "https://localhost:8080/"
        },
        "id": "zOwemv_XVOQk",
        "outputId": "fe31708c-4e5c-4d55-be5a-44a872b09105"
      },
      "source": [
        "nota =float(input(\"Por favor insira a nota \"))\n",
        "if nota >= 9:\n",
        "  print(\"a sua nota A\")\n",
        "elif nota >= 8:\n",
        "  print(\"a sua nota B\")\n",
        "elif nota >= 7:\n",
        "  print(\"a sua nota C\")\n",
        "elif nota >=6:\n",
        "  print(\"a sua nota D\")\n",
        "else:\n",
        "  print(\"a sua nota é um F\")\n"
      ],
      "execution_count": 52,
      "outputs": [
        {
          "output_type": "stream",
          "text": [
            "Por favor insira a nota 8.8\n",
            "a sua nota B\n"
          ],
          "name": "stdout"
        }
      ]
    },
    {
      "cell_type": "markdown",
      "metadata": {
        "id": "JwCW6gyIXO29"
      },
      "source": [
        "Faça um programa que pergunte ao usuário um número e valide se o numero é par ou impar:\n",
        "\n",
        "Crie uma variável para receber o valor, com conversão para int\n",
        "Para um número ser par, a divisão dele por 2 tem que dar resto 0"
      ]
    },
    {
      "cell_type": "code",
      "metadata": {
        "colab": {
          "base_uri": "https://localhost:8080/"
        },
        "id": "lcacQ0ItXSDc",
        "outputId": "3f12455a-4607-4199-90f9-6707953d0f36"
      },
      "source": [
        "numero = int(input(\"Por favor digite um numero: \\n\"))\n",
        "resto = numero % 2\n",
        "\n",
        "if resto == 0:\n",
        "    print('O Número que voce digitou é par')\n",
        "else:\n",
        "    print('O Número que voce digitou é impar')"
      ],
      "execution_count": 5,
      "outputs": [
        {
          "output_type": "stream",
          "text": [
            "Por favor digite um numero: \n",
            "53\n",
            "Número que voce digitou é impar\n"
          ],
          "name": "stdout"
        }
      ]
    },
    {
      "cell_type": "markdown",
      "metadata": {
        "id": "0tQBdp8BlJCP"
      },
      "source": [
        "\n",
        "PROJETO 01¶\n",
        "Escreva um programa que receba uma string digitada pelo usuário;\n",
        "Caso a string seja \"medieval\", exiba no console \"espada\";\n",
        "Caso contrário, se a string for \"futurista\", exiba no console \"sabre de luz\";\n",
        "Caso contrário, exiba no console \"Tente novamente\""
      ]
    },
    {
      "cell_type": "code",
      "metadata": {
        "colab": {
          "base_uri": "https://localhost:8080/"
        },
        "id": "68NueLSKlK0c",
        "outputId": "e0e45f19-11dc-420d-cfff-d9079aae9589"
      },
      "source": [
        "\n",
        "\n",
        "frase= (input(\"Favor escolha entre medieval ou futurista \\n\"))\n",
        "\n",
        "if frase == 'medieval':\n",
        "  print('Espada')\n",
        "\n",
        "elif frase == 'futurista':\n",
        "   print('sabre de luz')\n",
        "else:\n",
        "    print('tente novamente')\n",
        "\n"
      ],
      "execution_count": 49,
      "outputs": [
        {
          "output_type": "stream",
          "text": [
            "Favor escolha entre medieval ou futurista \n",
            "outra coisa\n",
            "tente novamente\n"
          ],
          "name": "stdout"
        }
      ]
    },
    {
      "cell_type": "code",
      "metadata": {
        "id": "gGzRE734XM02"
      },
      "source": [
        ""
      ],
      "execution_count": null,
      "outputs": []
    }
  ]
}