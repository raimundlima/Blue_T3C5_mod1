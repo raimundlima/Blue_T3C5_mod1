{
  "nbformat": 4,
  "nbformat_minor": 0,
  "metadata": {
    "colab": {
      "name": "exercicio dolar e valor aluguel",
      "provenance": [],
      "authorship_tag": "ABX9TyND7gB5pwnaC53kjKHDJfd8"
    },
    "kernelspec": {
      "name": "python3",
      "display_name": "Python 3"
    },
    "language_info": {
      "name": "python"
    }
  },
  "cells": [
    {
      "cell_type": "code",
      "metadata": {
        "colab": {
          "base_uri": "https://localhost:8080/"
        },
        "id": "1v4me0mWXUbM",
        "outputId": "fc323c69-97a1-449f-f234-ebf84d82a98a"
      },
      "source": [
        "valor_dolar = 5.04\n",
        "valor_euro = 6.13\n",
        "valor_libra = 7.13\n",
        "valor_pesochileno = 0.0070\n",
        "valor_pesoargentino = 0.053\n",
        "valor_dolarCanadense = 4.16\n",
        "\n",
        "quantidade_Real = float(input('Quantos reais ?'))\n",
        "\n",
        "quantidade_Dolar = quantidade_Real / valor_dolar\n",
        "quantidade_Euro = quantidade_Real / valor_euro\n",
        "quantidade_Libra = quantidade_Real / valor_libra\n",
        "quantidade_Pesochileno = quantidade_Real / valor_pesochileno\n",
        "quantidade_Pesoargentino = quantidade_Real / valor_pesoargentino\n",
        "quantidade_Dolarcanadense = quantidade_Real / valor_dolarCanadense\n",
        "\n",
        "print(f\"Voce está convertendo: R${quantidade_Real} reais em {quantidade_Dolar:.3f} Dolares\")\n",
        "print(f\"Voce está convertendo: R${quantidade_Real} reais em {quantidade_Euro:.2f} Euros\")\n",
        "print(f\"Voce está convertendo: R${quantidade_Real} reais em {quantidade_Libra:.2f} Libras\")\n",
        "print(f\"Voce está convertendo: R${quantidade_Real} reais em {quantidade_Pesochileno:.2f} Peso Chileno\")\n",
        "print(f\"Voce está convertendo: R${quantidade_Real} reais em {quantidade_Pesoargentino:.2f} Peso Argentino\")\n",
        "print(f\"Voce está convertendo: R${quantidade_Real} reais em {quantidade_Dolarcanadense:.2f} Dolar Canadense\")"
      ],
      "execution_count": null,
      "outputs": [
        {
          "output_type": "stream",
          "text": [
            "Quantos reais ?200\n",
            "Voce está convertendo: R$200.0 reais em 39.683 Dolares\n",
            "Voce está convertendo: R$200.0 reais em 32.63 Euros\n",
            "Voce está convertendo: R$200.0 reais em 28.05 Libras\n",
            "Voce está convertendo: R$200.0 reais em 28571.43 Peso Chileno\n",
            "Voce está convertendo: R$200.0 reais em 3773.58 Peso Argentino\n",
            "Voce está convertendo: R$200.0 reais em 48.08 Dolar Canadense\n"
          ],
          "name": "stdout"
        }
      ]
    },
    {
      "cell_type": "code",
      "metadata": {
        "colab": {
          "base_uri": "https://localhost:8080/"
        },
        "id": "5FUuLPMNbvhe",
        "outputId": "1873bb7b-c51a-4579-f840-e66163a318d6"
      },
      "source": [
        "igpm = 31\n",
        "\n",
        "Valor_Alguel_Atual = float(input('Qual o valor atual do aluguel ?'))\n",
        "\n",
        "aumento = (igpm/100)*Valor_Alguel_Atual\n",
        "print('vai aumentar', aumento)\n",
        "valor_Final = Valor_Alguel_Atual + aumento\n",
        "print(f'O valor após o reajuste é de {valor_Final:.2f}')"
      ],
      "execution_count": null,
      "outputs": [
        {
          "output_type": "stream",
          "text": [
            "Qual o valor atual do aluguel ?1000\n",
            "vai aumentar 310.0\n",
            "O valor após o reajuste é de 1310.00\n"
          ],
          "name": "stdout"
        }
      ]
    }
  ]
}